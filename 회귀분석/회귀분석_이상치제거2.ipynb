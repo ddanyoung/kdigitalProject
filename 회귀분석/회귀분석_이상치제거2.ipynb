{
 "cells": [
  {
   "cell_type": "code",
   "execution_count": 1,
   "outputs": [],
   "source": [
    "import numpy as np\n",
    "import pandas as pd\n",
    "import matplotlib.pyplot as plt\n",
    "import matplotlib as mpl\n",
    "import matplotlib.font_manager as fm\n",
    "import seaborn as sns\n",
    "import warnings\n",
    "warnings.filterwarnings('ignore')\n",
    "%matplotlib inline"
   ],
   "metadata": {
    "collapsed": false,
    "pycharm": {
     "name": "#%%\n"
    }
   }
  },
  {
   "cell_type": "code",
   "execution_count": 176,
   "outputs": [],
   "source": [
    "df = pd.read_csv('./data/최종데이터/진짜최종데이터.csv')"
   ],
   "metadata": {
    "collapsed": false,
    "pycharm": {
     "name": "#%%\n"
    }
   }
  },
  {
   "cell_type": "code",
   "execution_count": 177,
   "outputs": [
    {
     "data": {
      "text/plain": "      종목명    연도      누적수익률  종합등급   환경   사회  지배구조       ROA        ROE  \\\n0  AJ네트웍스  2016 -16.696604   3.0  2.0  3.0   3.0  0.820595   3.995265   \n1  AJ네트웍스  2017 -21.116001   3.0  3.0  3.0   3.0  0.877023   4.617270   \n2  AJ네트웍스  2018 -15.324073   3.0  2.0  3.0   3.0  1.447255   7.577926   \n3  AJ네트웍스  2019 -27.945367   3.0  1.0  3.0   3.0  2.336252  12.128881   \n4  AJ네트웍스  2020 -37.503193   3.0  1.0  3.0   3.0 -0.208845  -1.151640   \n\n     tobinQ   코스피누적수익률       LEV       SIZE       OCF     CAPEX  \n0  0.756037   0.244437  0.794608  28.364022 -0.089720  0.020694  \n1  0.719738  14.838077  0.810056  28.487236 -0.063067  0.022378  \n2  0.574388  17.010852  0.809017  28.576925 -0.032441  0.014980  \n3  0.651385  -8.843388  0.807381  28.220615 -0.021023  0.036102  \n4  0.556895  -4.513591  0.818654  28.093604  0.011161  0.026921  ",
      "text/html": "<div>\n<style scoped>\n    .dataframe tbody tr th:only-of-type {\n        vertical-align: middle;\n    }\n\n    .dataframe tbody tr th {\n        vertical-align: top;\n    }\n\n    .dataframe thead th {\n        text-align: right;\n    }\n</style>\n<table border=\"1\" class=\"dataframe\">\n  <thead>\n    <tr style=\"text-align: right;\">\n      <th></th>\n      <th>종목명</th>\n      <th>연도</th>\n      <th>누적수익률</th>\n      <th>종합등급</th>\n      <th>환경</th>\n      <th>사회</th>\n      <th>지배구조</th>\n      <th>ROA</th>\n      <th>ROE</th>\n      <th>tobinQ</th>\n      <th>코스피누적수익률</th>\n      <th>LEV</th>\n      <th>SIZE</th>\n      <th>OCF</th>\n      <th>CAPEX</th>\n    </tr>\n  </thead>\n  <tbody>\n    <tr>\n      <th>0</th>\n      <td>AJ네트웍스</td>\n      <td>2016</td>\n      <td>-16.696604</td>\n      <td>3.0</td>\n      <td>2.0</td>\n      <td>3.0</td>\n      <td>3.0</td>\n      <td>0.820595</td>\n      <td>3.995265</td>\n      <td>0.756037</td>\n      <td>0.244437</td>\n      <td>0.794608</td>\n      <td>28.364022</td>\n      <td>-0.089720</td>\n      <td>0.020694</td>\n    </tr>\n    <tr>\n      <th>1</th>\n      <td>AJ네트웍스</td>\n      <td>2017</td>\n      <td>-21.116001</td>\n      <td>3.0</td>\n      <td>3.0</td>\n      <td>3.0</td>\n      <td>3.0</td>\n      <td>0.877023</td>\n      <td>4.617270</td>\n      <td>0.719738</td>\n      <td>14.838077</td>\n      <td>0.810056</td>\n      <td>28.487236</td>\n      <td>-0.063067</td>\n      <td>0.022378</td>\n    </tr>\n    <tr>\n      <th>2</th>\n      <td>AJ네트웍스</td>\n      <td>2018</td>\n      <td>-15.324073</td>\n      <td>3.0</td>\n      <td>2.0</td>\n      <td>3.0</td>\n      <td>3.0</td>\n      <td>1.447255</td>\n      <td>7.577926</td>\n      <td>0.574388</td>\n      <td>17.010852</td>\n      <td>0.809017</td>\n      <td>28.576925</td>\n      <td>-0.032441</td>\n      <td>0.014980</td>\n    </tr>\n    <tr>\n      <th>3</th>\n      <td>AJ네트웍스</td>\n      <td>2019</td>\n      <td>-27.945367</td>\n      <td>3.0</td>\n      <td>1.0</td>\n      <td>3.0</td>\n      <td>3.0</td>\n      <td>2.336252</td>\n      <td>12.128881</td>\n      <td>0.651385</td>\n      <td>-8.843388</td>\n      <td>0.807381</td>\n      <td>28.220615</td>\n      <td>-0.021023</td>\n      <td>0.036102</td>\n    </tr>\n    <tr>\n      <th>4</th>\n      <td>AJ네트웍스</td>\n      <td>2020</td>\n      <td>-37.503193</td>\n      <td>3.0</td>\n      <td>1.0</td>\n      <td>3.0</td>\n      <td>3.0</td>\n      <td>-0.208845</td>\n      <td>-1.151640</td>\n      <td>0.556895</td>\n      <td>-4.513591</td>\n      <td>0.818654</td>\n      <td>28.093604</td>\n      <td>0.011161</td>\n      <td>0.026921</td>\n    </tr>\n  </tbody>\n</table>\n</div>"
     },
     "execution_count": 177,
     "metadata": {},
     "output_type": "execute_result"
    }
   ],
   "source": [
    "df.head()"
   ],
   "metadata": {
    "collapsed": false,
    "pycharm": {
     "name": "#%%\n"
    }
   }
  },
  {
   "cell_type": "code",
   "execution_count": 178,
   "outputs": [],
   "source": [
    "lev = ['종합등급', '환경', '사회', '지배구조']\n",
    "\n",
    "for i in df.index:\n",
    "    for col in lev:\n",
    "\n",
    "        T = df.loc[i, col]\n",
    "\n",
    "        if T < 3:\n",
    "            df.loc[i, col] = 0\n",
    "        elif T == 3:\n",
    "            df.loc[i, col] = 1\n",
    "        elif T > 3:\n",
    "            df.loc[i, col] = 2\n"
   ],
   "metadata": {
    "collapsed": false,
    "pycharm": {
     "name": "#%%\n"
    }
   }
  },
  {
   "cell_type": "code",
   "execution_count": 179,
   "outputs": [],
   "source": [
    "from statsmodels.formula.api import ols"
   ],
   "metadata": {
    "collapsed": false,
    "pycharm": {
     "name": "#%%\n"
    }
   }
  },
  {
   "cell_type": "code",
   "execution_count": 180,
   "outputs": [],
   "source": [
    "df = df.astype({'종합등급':'int64','환경':'int64','사회':'int64','지배구조':'int64'})"
   ],
   "metadata": {
    "collapsed": false,
    "pycharm": {
     "name": "#%%\n"
    }
   }
  },
  {
   "cell_type": "code",
   "execution_count": 181,
   "outputs": [
    {
     "data": {
      "text/plain": "                연도        누적수익률         종합등급           환경           사회  \\\ncount  3527.000000  3527.000000  3527.000000  3527.000000  3527.000000   \nmean   2016.107173    14.331555     1.116813     0.824497     1.204139   \nstd       2.649366    67.203085     0.529845     0.738758     0.540745   \nmin    2011.000000   -97.254766     0.000000     0.000000     0.000000   \n25%    2014.000000   -23.852225     1.000000     0.000000     1.000000   \n50%    2016.000000    -1.518556     1.000000     1.000000     1.000000   \n75%    2018.000000    32.073614     1.000000     1.000000     2.000000   \nmax    2020.000000   714.625626     2.000000     2.000000     2.000000   \n\n              지배구조          ROA           ROE        tobinQ     코스피누적수익률  \\\ncount  3527.000000  3527.000000   3527.000000  3.527000e+03  3527.000000   \nmean      1.232492     2.242168      5.309359  1.112854e+04     3.690469   \nstd       0.549159    12.181280    242.515005  1.386774e+05     8.430458   \nmin       0.000000   -95.635348  -2818.284747 -6.131463e+01    -8.843388   \n25%       1.000000     0.154049      0.374730  5.221416e-01    -1.211481   \n50%       1.000000     2.402946      4.729742  8.404902e-01     2.619181   \n75%       2.000000     5.110998      9.226761  1.376326e+00    12.439058   \nmax       2.000000   407.621431  13546.418464  3.053058e+06    17.010852   \n\n               LEV         SIZE          OCF        CAPEX  \ncount  3527.000000  3527.000000  3527.000000  3527.000000  \nmean      0.473449    27.201858     0.049521    -1.586884  \nstd       0.208587     1.876221     0.069674    96.633453  \nmin       0.027552    13.060203    -0.479176 -5738.793512  \n25%       0.318019    26.207060     0.013631     0.004432  \n50%       0.479834    27.088255     0.050090     0.020828  \n75%       0.618782    28.168829     0.085358     0.047628  \nmax       2.945354    33.566539     0.623319    25.122526  ",
      "text/html": "<div>\n<style scoped>\n    .dataframe tbody tr th:only-of-type {\n        vertical-align: middle;\n    }\n\n    .dataframe tbody tr th {\n        vertical-align: top;\n    }\n\n    .dataframe thead th {\n        text-align: right;\n    }\n</style>\n<table border=\"1\" class=\"dataframe\">\n  <thead>\n    <tr style=\"text-align: right;\">\n      <th></th>\n      <th>연도</th>\n      <th>누적수익률</th>\n      <th>종합등급</th>\n      <th>환경</th>\n      <th>사회</th>\n      <th>지배구조</th>\n      <th>ROA</th>\n      <th>ROE</th>\n      <th>tobinQ</th>\n      <th>코스피누적수익률</th>\n      <th>LEV</th>\n      <th>SIZE</th>\n      <th>OCF</th>\n      <th>CAPEX</th>\n    </tr>\n  </thead>\n  <tbody>\n    <tr>\n      <th>count</th>\n      <td>3527.000000</td>\n      <td>3527.000000</td>\n      <td>3527.000000</td>\n      <td>3527.000000</td>\n      <td>3527.000000</td>\n      <td>3527.000000</td>\n      <td>3527.000000</td>\n      <td>3527.000000</td>\n      <td>3.527000e+03</td>\n      <td>3527.000000</td>\n      <td>3527.000000</td>\n      <td>3527.000000</td>\n      <td>3527.000000</td>\n      <td>3527.000000</td>\n    </tr>\n    <tr>\n      <th>mean</th>\n      <td>2016.107173</td>\n      <td>14.331555</td>\n      <td>1.116813</td>\n      <td>0.824497</td>\n      <td>1.204139</td>\n      <td>1.232492</td>\n      <td>2.242168</td>\n      <td>5.309359</td>\n      <td>1.112854e+04</td>\n      <td>3.690469</td>\n      <td>0.473449</td>\n      <td>27.201858</td>\n      <td>0.049521</td>\n      <td>-1.586884</td>\n    </tr>\n    <tr>\n      <th>std</th>\n      <td>2.649366</td>\n      <td>67.203085</td>\n      <td>0.529845</td>\n      <td>0.738758</td>\n      <td>0.540745</td>\n      <td>0.549159</td>\n      <td>12.181280</td>\n      <td>242.515005</td>\n      <td>1.386774e+05</td>\n      <td>8.430458</td>\n      <td>0.208587</td>\n      <td>1.876221</td>\n      <td>0.069674</td>\n      <td>96.633453</td>\n    </tr>\n    <tr>\n      <th>min</th>\n      <td>2011.000000</td>\n      <td>-97.254766</td>\n      <td>0.000000</td>\n      <td>0.000000</td>\n      <td>0.000000</td>\n      <td>0.000000</td>\n      <td>-95.635348</td>\n      <td>-2818.284747</td>\n      <td>-6.131463e+01</td>\n      <td>-8.843388</td>\n      <td>0.027552</td>\n      <td>13.060203</td>\n      <td>-0.479176</td>\n      <td>-5738.793512</td>\n    </tr>\n    <tr>\n      <th>25%</th>\n      <td>2014.000000</td>\n      <td>-23.852225</td>\n      <td>1.000000</td>\n      <td>0.000000</td>\n      <td>1.000000</td>\n      <td>1.000000</td>\n      <td>0.154049</td>\n      <td>0.374730</td>\n      <td>5.221416e-01</td>\n      <td>-1.211481</td>\n      <td>0.318019</td>\n      <td>26.207060</td>\n      <td>0.013631</td>\n      <td>0.004432</td>\n    </tr>\n    <tr>\n      <th>50%</th>\n      <td>2016.000000</td>\n      <td>-1.518556</td>\n      <td>1.000000</td>\n      <td>1.000000</td>\n      <td>1.000000</td>\n      <td>1.000000</td>\n      <td>2.402946</td>\n      <td>4.729742</td>\n      <td>8.404902e-01</td>\n      <td>2.619181</td>\n      <td>0.479834</td>\n      <td>27.088255</td>\n      <td>0.050090</td>\n      <td>0.020828</td>\n    </tr>\n    <tr>\n      <th>75%</th>\n      <td>2018.000000</td>\n      <td>32.073614</td>\n      <td>1.000000</td>\n      <td>1.000000</td>\n      <td>2.000000</td>\n      <td>2.000000</td>\n      <td>5.110998</td>\n      <td>9.226761</td>\n      <td>1.376326e+00</td>\n      <td>12.439058</td>\n      <td>0.618782</td>\n      <td>28.168829</td>\n      <td>0.085358</td>\n      <td>0.047628</td>\n    </tr>\n    <tr>\n      <th>max</th>\n      <td>2020.000000</td>\n      <td>714.625626</td>\n      <td>2.000000</td>\n      <td>2.000000</td>\n      <td>2.000000</td>\n      <td>2.000000</td>\n      <td>407.621431</td>\n      <td>13546.418464</td>\n      <td>3.053058e+06</td>\n      <td>17.010852</td>\n      <td>2.945354</td>\n      <td>33.566539</td>\n      <td>0.623319</td>\n      <td>25.122526</td>\n    </tr>\n  </tbody>\n</table>\n</div>"
     },
     "execution_count": 181,
     "metadata": {},
     "output_type": "execute_result"
    }
   ],
   "source": [
    "df.describe()"
   ],
   "metadata": {
    "collapsed": false,
    "pycharm": {
     "name": "#%%\n"
    }
   }
  },
  {
   "cell_type": "code",
   "execution_count": 132,
   "outputs": [],
   "source": [
    "import matplotlib.pyplot as plt\n",
    "import seaborn as sns\n",
    "plt.rcParams['font.family'] = 'Malgun Gothic'"
   ],
   "metadata": {
    "collapsed": false,
    "pycharm": {
     "name": "#%%\n"
    }
   }
  },
  {
   "cell_type": "markdown",
   "source": [
    "## 이상치 제거"
   ],
   "metadata": {
    "collapsed": false,
    "pycharm": {
     "name": "#%% md\n"
    }
   }
  },
  {
   "cell_type": "code",
   "execution_count": 52,
   "outputs": [],
   "source": [
    "## 이상치 제거\n",
    "def outliers_iqr(data):\n",
    "    q1 = np.quantile(data, 0.25)\n",
    "    q3 = np.quantile(data, 0.75)\n",
    "    # 넘파이 값을 퍼센트로 표시해주는 함수\n",
    "    iqr = q3 - q1\n",
    "    lower_bound = q1 - (iqr * 1.5)\n",
    "    upper_bound = q3 + (iqr * 1.5)\n",
    "\n",
    "    return np.where((data > upper_bound) | (data < lower_bound))"
   ],
   "metadata": {
    "collapsed": false,
    "pycharm": {
     "name": "#%%\n"
    }
   }
  },
  {
   "cell_type": "code",
   "execution_count": 53,
   "outputs": [
    {
     "name": "stdout",
     "output_type": "stream",
     "text": [
      "1184\n"
     ]
    }
   ],
   "source": [
    "outlier_cols = ['ROA', 'ROE', 'OCF', 'CAPEX']\n",
    "total_outliers = []\n",
    "normal_index = []\n",
    "\n",
    "for col in outlier_cols:\n",
    "    outliers_index = outliers_iqr(df[col])[0]\n",
    "    total_outliers.append(outliers_index)\n",
    "\n",
    "total_outliers = [val for arr in total_outliers for val in arr]\n",
    "print(len(total_outliers))\n",
    "\n",
    "for i in df.index:\n",
    "    if i not in total_outliers:\n",
    "        normal_index.append(i)"
   ],
   "metadata": {
    "collapsed": false,
    "pycharm": {
     "name": "#%%\n"
    }
   }
  },
  {
   "cell_type": "code",
   "execution_count": 54,
   "outputs": [],
   "source": [
    "df_clean = df.loc[normal_index]"
   ],
   "metadata": {
    "collapsed": false,
    "pycharm": {
     "name": "#%%\n"
    }
   }
  },
  {
   "cell_type": "code",
   "execution_count": 136,
   "outputs": [
    {
     "name": "stdout",
     "output_type": "stream",
     "text": [
      "                            OLS Regression Results                            \n",
      "==============================================================================\n",
      "Dep. Variable:                    ROA   R-squared:                       0.898\n",
      "Model:                            OLS   Adj. R-squared:                  0.898\n",
      "Method:                 Least Squares   F-statistic:                     4034.\n",
      "Date:                Tue, 17 May 2022   Prob (F-statistic):               0.00\n",
      "Time:                        14:36:16   Log-Likelihood:                -4094.0\n",
      "No. Observations:                2753   AIC:                             8202.\n",
      "Df Residuals:                    2746   BIC:                             8243.\n",
      "Df Model:                           6                                         \n",
      "Covariance Type:            nonrobust                                         \n",
      "==============================================================================\n",
      "                 coef    std err          t      P>|t|      [0.025      0.975]\n",
      "------------------------------------------------------------------------------\n",
      "Intercept      1.4667      0.337      4.355      0.000       0.806       2.127\n",
      "종합등급           0.1366      0.042      3.225      0.001       0.054       0.220\n",
      "ROE            0.4727      0.004    131.837      0.000       0.466       0.480\n",
      "LEV           -4.3065      0.110    -39.193      0.000      -4.522      -4.091\n",
      "SIZE           0.0214      0.013      1.630      0.103      -0.004       0.047\n",
      "OCF            4.4491      0.456      9.766      0.000       3.556       5.342\n",
      "CAPEX          0.2485      0.687      0.362      0.717      -1.098       1.595\n",
      "==============================================================================\n",
      "Omnibus:                      414.189   Durbin-Watson:                   1.397\n",
      "Prob(Omnibus):                  0.000   Jarque-Bera (JB):             4018.431\n",
      "Skew:                           0.391   Prob(JB):                         0.00\n",
      "Kurtosis:                       8.867   Cond. No.                         949.\n",
      "==============================================================================\n",
      "\n",
      "Notes:\n",
      "[1] Standard Errors assume that the covariance matrix of the errors is correctly specified.\n"
     ]
    }
   ],
   "source": [
    "res = ols('ROA ~ 종합등급+ROE+LEV+SIZE+OCF+CAPEX', data=df_clean).fit()\n",
    "print(res.summary())"
   ],
   "metadata": {
    "collapsed": false,
    "pycharm": {
     "name": "#%%\n"
    }
   }
  },
  {
   "cell_type": "code",
   "execution_count": 142,
   "outputs": [
    {
     "name": "stdout",
     "output_type": "stream",
     "text": [
      "                            OLS Regression Results                            \n",
      "==============================================================================\n",
      "Dep. Variable:                    ROE   R-squared:                       0.881\n",
      "Model:                            OLS   Adj. R-squared:                  0.881\n",
      "Method:                 Least Squares   F-statistic:                     3399.\n",
      "Date:                Tue, 17 May 2022   Prob (F-statistic):               0.00\n",
      "Time:                        14:36:53   Log-Likelihood:                -5954.7\n",
      "No. Observations:                2753   AIC:                         1.192e+04\n",
      "Df Residuals:                    2746   BIC:                         1.196e+04\n",
      "Df Model:                           6                                         \n",
      "Covariance Type:            nonrobust                                         \n",
      "==============================================================================\n",
      "                 coef    std err          t      P>|t|      [0.025      0.975]\n",
      "------------------------------------------------------------------------------\n",
      "Intercept     -2.6789      0.662     -4.044      0.000      -3.978      -1.380\n",
      "종합등급          -0.1431      0.083     -1.717      0.086      -0.307       0.020\n",
      "ROA            1.8267      0.014    131.837      0.000       1.800       1.854\n",
      "LEV            7.5756      0.228     33.268      0.000       7.129       8.022\n",
      "SIZE          -0.0242      0.026     -0.938      0.348      -0.075       0.026\n",
      "OCF           -2.5385      0.910     -2.791      0.005      -4.322      -0.755\n",
      "CAPEX         -0.4358      1.350     -0.323      0.747      -3.082       2.211\n",
      "==============================================================================\n",
      "Omnibus:                      427.304   Durbin-Watson:                   1.470\n",
      "Prob(Omnibus):                  0.000   Jarque-Bera (JB):             4554.299\n",
      "Skew:                          -0.381   Prob(JB):                         0.00\n",
      "Kurtosis:                       9.255   Cond. No.                         938.\n",
      "==============================================================================\n",
      "\n",
      "Notes:\n",
      "[1] Standard Errors assume that the covariance matrix of the errors is correctly specified.\n"
     ]
    }
   ],
   "source": [
    "res = ols('ROE ~ 종합등급+ROA+LEV+SIZE+OCF+CAPEX', data=df_clean).fit()\n",
    "print(res.summary())"
   ],
   "metadata": {
    "collapsed": false,
    "pycharm": {
     "name": "#%%\n"
    }
   }
  },
  {
   "cell_type": "code",
   "execution_count": 143,
   "outputs": [
    {
     "name": "stdout",
     "output_type": "stream",
     "text": [
      "                            OLS Regression Results                            \n",
      "==============================================================================\n",
      "Dep. Variable:                 tobinQ   R-squared:                       0.250\n",
      "Model:                            OLS   Adj. R-squared:                  0.248\n",
      "Method:                 Least Squares   F-statistic:                     101.8\n",
      "Date:                Tue, 17 May 2022   Prob (F-statistic):          1.67e-164\n",
      "Time:                        14:37:00   Log-Likelihood:                -35173.\n",
      "No. Observations:                2753   AIC:                         7.037e+04\n",
      "Df Residuals:                    2743   BIC:                         7.043e+04\n",
      "Df Model:                           9                                         \n",
      "Covariance Type:            nonrobust                                         \n",
      "==============================================================================\n",
      "                 coef    std err          t      P>|t|      [0.025      0.975]\n",
      "------------------------------------------------------------------------------\n",
      "Intercept   1.435e+06    1.4e+06      1.024      0.306   -1.31e+06    4.18e+06\n",
      "종합등급        4.801e+04   3500.102     13.717      0.000    4.11e+04    5.49e+04\n",
      "연도          -331.6395    696.210     -0.476      0.634   -1696.788    1033.509\n",
      "ROE         1736.3733    294.097      5.904      0.000    1159.700    2313.047\n",
      "LEV         5.355e+04   8824.456      6.068      0.000    3.62e+04    7.09e+04\n",
      "SIZE       -3.095e+04   1076.086    -28.760      0.000   -3.31e+04   -2.88e+04\n",
      "OCF         5433.7563   3.68e+04      0.148      0.883   -6.67e+04    7.76e+04\n",
      "CAPEX       1.399e+04    5.6e+04      0.250      0.803   -9.59e+04    1.24e+05\n",
      "누적수익률        -79.6486     27.421     -2.905      0.004    -133.416     -25.881\n",
      "코스피누적수익률    -370.4264    203.461     -1.821      0.069    -769.379      28.527\n",
      "==============================================================================\n",
      "Omnibus:                     5566.602   Durbin-Watson:                   1.024\n",
      "Prob(Omnibus):                  0.000   Jarque-Bera (JB):         15899902.645\n",
      "Skew:                          16.337   Prob(JB):                         0.00\n",
      "Kurtosis:                     373.869   Cond. No.                     1.73e+06\n",
      "==============================================================================\n",
      "\n",
      "Notes:\n",
      "[1] Standard Errors assume that the covariance matrix of the errors is correctly specified.\n",
      "[2] The condition number is large, 1.73e+06. This might indicate that there are\n",
      "strong multicollinearity or other numerical problems.\n"
     ]
    }
   ],
   "source": [
    "res = ols('tobinQ ~ 종합등급+연도+ROE+LEV+SIZE+OCF+CAPEX+누적수익률+코스피누적수익률', data=df_clean).fit()\n",
    "print(res.summary())"
   ],
   "metadata": {
    "collapsed": false,
    "pycharm": {
     "name": "#%%\n"
    }
   }
  },
  {
   "cell_type": "code",
   "execution_count": 110,
   "outputs": [],
   "source": [
    "# from sklearn.utils import shuffle\n",
    "#\n",
    "# def down_sampling(df, target):\n",
    "#     desired_apriori=0.25\n",
    "#\n",
    "#     # Get the indices per target value\n",
    "#     idx_0 = df[df[target] == 1].index\n",
    "#     idx_1 = df[df[target] != 1].index\n",
    "#\n",
    "#     # Get original number of records per target value\n",
    "#     nb_0 = len(df.loc[idx_0])\n",
    "#     nb_1 = len(df.loc[idx_1]) / 2\n",
    "#\n",
    "#     # Calculate the undersampling rate and resulting number of records with target=0\n",
    "#     undersampling_rate = ((1-desired_apriori)*nb_1)/(nb_0*desired_apriori)\n",
    "#     undersampled_nb_0 = int(undersampling_rate*nb_0)\n",
    "#     print('Rate to undersample records with target=0: {}'.format(undersampling_rate))\n",
    "#     print('Number of records with target=0 after undersampling: {}'.format(undersampled_nb_0))\n",
    "#\n",
    "#     # Randomly select records with target=0 to get at the desired a priori\n",
    "#     undersampled_idx = shuffle(idx_0, random_state=37, n_samples=undersampled_nb_0)\n",
    "#\n",
    "#     # Construct list with remaining indices\n",
    "#     idx_list = list(undersampled_idx) + list(idx_1)\n",
    "#\n",
    "#     # Return undersample data frame\n",
    "#     df = df.loc[idx_list].reset_index(drop=True)\n",
    "#\n",
    "#     return df"
   ],
   "metadata": {
    "collapsed": false,
    "pycharm": {
     "name": "#%%\n"
    }
   }
  },
  {
   "cell_type": "code",
   "execution_count": 144,
   "outputs": [
    {
     "data": {
      "text/plain": "<Figure size 432x288 with 1 Axes>",
      "image/png": "[encoded data removed]"
     },
     "metadata": {
      "needs_background": "light"
     },
     "output_type": "display_data"
    },
    {
     "data": {
      "text/plain": "<Figure size 432x288 with 1 Axes>",
      "image/png": "[encoded data removed]"
     },
     "metadata": {
      "needs_background": "light"
     },
     "output_type": "display_data"
    },
    {
     "data": {
      "text/plain": "<Figure size 432x288 with 1 Axes>",
      "image/png": "[encoded data removed]"
     },
     "metadata": {
      "needs_background": "light"
     },
     "output_type": "display_data"
    },
    {
     "data": {
      "text/plain": "<Figure size 432x288 with 1 Axes>",
      "image/png": "[encoded data removed]"
     },
     "metadata": {
      "needs_background": "light"
     },
     "output_type": "display_data"
    }
   ],
   "source": [
    "group = ['종합등급', '환경', '사회', '지배구조']\n",
    "for g in group:\n",
    "    sns.barplot(data=df_clean, x=g, y='tobinQ', estimator=np.mean)\n",
    "    plt.show()"
   ],
   "metadata": {
    "collapsed": false,
    "pycharm": {
     "name": "#%%\n"
    }
   }
  },
  {
   "cell_type": "code",
   "execution_count": 145,
   "outputs": [
    {
     "data": {
      "text/plain": "<Figure size 432x288 with 1 Axes>",
      "image/png": "[encoded data removed]"
     },
     "metadata": {
      "needs_background": "light"
     },
     "output_type": "display_data"
    },
    {
     "data": {
      "text/plain": "<Figure size 432x288 with 1 Axes>",
      "image/png": "[encoded data removed]"
     },
     "metadata": {
      "needs_background": "light"
     },
     "output_type": "display_data"
    },
    {
     "data": {
      "text/plain": "<Figure size 432x288 with 1 Axes>",
      "image/png": "[encoded data removed]"
     },
     "metadata": {
      "needs_background": "light"
     },
     "output_type": "display_data"
    },
    {
     "data": {
      "text/plain": "<Figure size 432x288 with 1 Axes>",
      "image/png": "[encoded data removed]"
     },
     "metadata": {
      "needs_background": "light"
     },
     "output_type": "display_data"
    }
   ],
   "source": [
    "group = ['종합등급', '환경', '사회', '지배구조']\n",
    "for g in group:\n",
    "    sns.barplot(data=df_clean, x=g, y='ROA', estimator=np.mean)\n",
    "    plt.show()"
   ],
   "metadata": {
    "collapsed": false,
    "pycharm": {
     "name": "#%%\n"
    }
   }
  },
  {
   "cell_type": "code",
   "execution_count": 146,
   "outputs": [
    {
     "data": {
      "text/plain": "<Figure size 432x288 with 1 Axes>",
      "image/png": "[encoded data removed]"
     },
     "metadata": {
      "needs_background": "light"
     },
     "output_type": "display_data"
    },
    {
     "data": {
      "text/plain": "<Figure size 432x288 with 1 Axes>",
      "image/png": "[encoded data removed]"
     },
     "metadata": {
      "needs_background": "light"
     },
     "output_type": "display_data"
    },
    {
     "data": {
      "text/plain": "<Figure size 432x288 with 1 Axes>",
      "image/png": "[encoded data removed]"
     },
     "metadata": {
      "needs_background": "light"
     },
     "output_type": "display_data"
    },
    {
     "data": {
      "text/plain": "<Figure size 432x288 with 1 Axes>",
      "image/png": "[encoded data removed]"
     },
     "metadata": {
      "needs_background": "light"
     },
     "output_type": "display_data"
    }
   ],
   "source": [
    "group = ['종합등급', '환경', '사회', '지배구조']\n",
    "for g in group:\n",
    "    sns.barplot(data=df_clean, x=g, y='ROE', estimator=np.mean)\n",
    "    plt.show()"
   ],
   "metadata": {
    "collapsed": false,
    "pycharm": {
     "name": "#%%\n"
    }
   }
  }
 ],
 "metadata": {
  "kernelspec": {
   "display_name": "Python 3",
   "language": "python",
   "name": "python3"
  },
  "language_info": {
   "codemirror_mode": {
    "name": "ipython",
    "version": 2
   },
   "file_extension": ".py",
   "mimetype": "text/x-python",
   "name": "python",
   "nbconvert_exporter": "python",
   "pygments_lexer": "ipython2",
   "version": "2.7.6"
  }
 },
 "nbformat": 4,
 "nbformat_minor": 0
}